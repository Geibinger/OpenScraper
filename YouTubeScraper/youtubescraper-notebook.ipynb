{
 "cells": [
  {
   "cell_type": "code",
   "execution_count": null,
   "metadata": {},
   "outputs": [],
   "source": [
    "import openpyxl\n",
    "from googleapiclient.discovery import build\n",
    "from googleapiclient.errors import HttpError\n",
    "from datetime import datetime"
   ]
  },
  {
   "cell_type": "code",
   "execution_count": null,
   "metadata": {},
   "outputs": [],
   "source": [
    "# API key\n",
    "API_KEY = '[YOUR API KEY]'\n",
    "\n",
    "# Video ID\n",
    "VIDEO_ID = '[YOUR VIDEO ID]'"
   ]
  },
  {
   "cell_type": "code",
   "execution_count": null,
   "metadata": {},
   "outputs": [],
   "source": [
    "# Create a YouTube API client object\n",
    "youtube = build('youtube', 'v3', developerKey=API_KEY)"
   ]
  },
  {
   "cell_type": "code",
   "execution_count": null,
   "metadata": {},
   "outputs": [],
   "source": [
    "# Get the comments for the video\n",
    "comments = []\n",
    "next_page_token = ''\n",
    "\n",
    "while True:\n",
    "    try:\n",
    "        # Call the API to retrieve comments\n",
    "        response = youtube.commentThreads().list(\n",
    "            part='snippet',\n",
    "            videoId=VIDEO_ID,\n",
    "            textFormat='plainText',\n",
    "            pageToken=next_page_token,\n",
    "            maxResults=100\n",
    "        ).execute()\n",
    "\n",
    "        # Extract comment data from the response\n",
    "        for item in response['items']:\n",
    "            comment = item['snippet']['topLevelComment']['snippet']['textDisplay']\n",
    "            author = item['snippet']['topLevelComment']['snippet']['authorDisplayName']\n",
    "            created = datetime.strptime(item['snippet']['topLevelComment']['snippet']['publishedAt'], '%Y-%m-%dT%H:%M:%SZ').strftime('%d/%m/%Y %H:%M:%S')\n",
    "            likes = item['snippet']['topLevelComment']['snippet']['likeCount']\n",
    "\n",
    "            # Add the comment data to the comments list\n",
    "            comments.append([comment, author, created, likes])\n",
    "\n",
    "        # Check if there are more comments to retrieve\n",
    "        if 'nextPageToken' in response:\n",
    "            next_page_token = response['nextPageToken']\n",
    "            print(f\"Retrieving comments for page: {next_page_token}\")\n",
    "        else:\n",
    "            break\n",
    "\n",
    "    except HttpError as error:\n",
    "        print(f'An HTTP error {error.resp.status} occurred: {error.content}')\n",
    "        break"
   ]
  },
  {
   "cell_type": "code",
   "execution_count": null,
   "metadata": {},
   "outputs": [],
   "source": [
    "# Create a new Excel workbook\n",
    "workbook = openpyxl.Workbook()\n",
    "\n",
    "# Create a worksheet for the comments\n",
    "worksheet = workbook.active\n",
    "worksheet.title = 'Comments'\n",
    "\n",
    "# Add column headings to the worksheet\n",
    "column_headings = ['Comment', 'Author', 'Created', 'Likes']\n",
    "worksheet.append(column_headings)\n",
    "\n",
    "# Add the comments to the worksheet\n",
    "for comment in comments:\n",
    "    worksheet.append(comment)"
   ]
  },
  {
   "cell_type": "code",
   "execution_count": null,
   "metadata": {},
   "outputs": [],
   "source": [
    "# Save the Excel file\n",
    "workbook.save(f'{VIDEO_ID}.xlsx')"
   ]
  }
 ],
 "metadata": {
  "language_info": {
   "name": "python"
  },
  "orig_nbformat": 4
 },
 "nbformat": 4,
 "nbformat_minor": 2
}
